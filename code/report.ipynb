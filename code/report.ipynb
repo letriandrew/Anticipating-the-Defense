{
 "cells": [
  {
   "cell_type": "markdown",
   "metadata": {},
   "source": [
    "Metric Track:\n",
    "By Andrew Le & Bryan Trinh\n",
    "\n",
    "Goal:\n",
    "The objective of our model is to infer rate of success given a left/right abc of the center. Our model yields 66.01-75.55% accuracy rate."
   ]
  },
  {
   "cell_type": "markdown",
   "metadata": {},
   "source": [
    "The order of execution is as follows:\n",
    "\n",
    "1. code/preprocess_data.py\n",
    "2. code/organize_data.py\n",
    "3. code/feature_engineering.py\n",
    "4. code/model.py"
   ]
  }
 ],
 "metadata": {
  "language_info": {
   "name": "python"
  }
 },
 "nbformat": 4,
 "nbformat_minor": 2
}
