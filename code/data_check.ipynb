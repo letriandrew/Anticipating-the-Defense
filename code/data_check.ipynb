{
 "cells": [
  {
   "cell_type": "code",
   "execution_count": 4,
   "metadata": {},
   "outputs": [],
   "source": [
    "#imports\n",
    "import os\n",
    "import gc\n",
    "import pandas as pd\n",
    "import numpy as np\n",
    "import datetime as dt \n",
    "\n",
    "import matplotlib.pyplot as plt\n",
    "import matplotlib.cm as cm \n",
    "import seaborn as sns\n",
    "\n",
    "import plotly.graph_objects as go \n",
    "from plotly.subplots import make_subplots\n",
    "import plotly.express as px\n",
    "import plotly.offline \n",
    "\n",
    "from colorama import Fore, Style, init \n",
    "from pprint import pprint\n",
    "\n",
    "import warnings\n",
    "warnings.filterwarnings('ignore')"
   ]
  },
  {
   "cell_type": "code",
   "execution_count": 5,
   "metadata": {},
   "outputs": [],
   "source": [
    "def PrintColor(text: str, color=Fore.BLUE, style=Style.BRIGHT):\n",
    "    \"Prints color outputs using colorama using a text F-string\"\n",
    "    print(style + color + text + Style.RESET_ALL)\n",
    "\n",
    "def summarize_dataframe(df):\n",
    "    summary_df = pd.DataFrame(df.dtypes, columns=['dtypes'])\n",
    "    summary_df['missing#'] = df.isna().sum().values*100\n",
    "    summary_df['missing%'] = (df.isna().sum().values*100)/len(df)\n",
    "    summary_df['uniques'] = df.nunique().values\n",
    "    summary_df['first_value'] = df.iloc[0].values\n",
    "    summary_df['last_value'] = df.iloc[len(df)-1].values\n",
    "    summary_df['count'] = df.count().values\n",
    "\n",
    "    desc = pd.DataFrame(df.describe().T)\n",
    "    summary_df['min'] = desc['min']\n",
    "    summary_df['max'] = desc['max']\n",
    "    summary_df['mean'] = desc['mean']\n",
    "    return summary_df"
   ]
  }
 ],
 "metadata": {
  "kernelspec": {
   "display_name": "Python 3",
   "language": "python",
   "name": "python3"
  },
  "language_info": {
   "codemirror_mode": {
    "name": "ipython",
    "version": 3
   },
   "file_extension": ".py",
   "mimetype": "text/x-python",
   "name": "python",
   "nbconvert_exporter": "python",
   "pygments_lexer": "ipython3",
   "version": "3.12.7"
  }
 },
 "nbformat": 4,
 "nbformat_minor": 2
}
